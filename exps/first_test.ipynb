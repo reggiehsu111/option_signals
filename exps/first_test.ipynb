{
 "cells": [
  {
   "cell_type": "code",
   "execution_count": 1,
   "id": "a2f946e6-5897-4b83-aef4-6a1edd35d6e3",
   "metadata": {},
   "outputs": [],
   "source": [
    "import sys\n",
    "import os\n",
    "import warnings\n",
    "warnings.filterwarnings('ignore')\n",
    "\n",
    "sys.path.append(os.path.abspath('..'))\n",
    "\n",
    "import tools as f"
   ]
  },
  {
   "cell_type": "code",
   "execution_count": 5,
   "id": "935cf2d2-91ba-4926-9ad4-b3de32f53f83",
   "metadata": {},
   "outputs": [],
   "source": [
    "f.set_runtime(\n",
    "    g_start_time='2023-01-01',\n",
    "    g_end_time='2023-03-01',\n",
    "    g_time_granularity='1h',\n",
    "    g_matrix_cache_folder='test-cache',\n",
    "    g_data_folder = 'data',\n",
    "    g_blow_cache = False,\n",
    "    g_debug_mode = True,\n",
    "    g_universe_num = 1,\n",
    "    g_use_cache=False\n",
    ")"
   ]
  },
  {
   "cell_type": "code",
   "execution_count": 6,
   "id": "58a60a44-5b35-4d27-a851-a44c98479288",
   "metadata": {},
   "outputs": [
    {
     "name": "stdout",
     "output_type": "stream",
     "text": [
      "Fetching data between 2023-01-01 and 2023-03-01\n"
     ]
    }
   ],
   "source": [
    "mx = f.Prices('c')"
   ]
  },
  {
   "cell_type": "code",
   "execution_count": 7,
   "id": "96ddac82-d4cd-4a36-86e9-98bb1adf3ae4",
   "metadata": {},
   "outputs": [
    {
     "data": {
      "text/plain": [
       "timestamp\n",
       "2023-02-14 13:00:00-05:00    4133.75\n",
       "2023-02-14 14:00:00-05:00    4140.81\n",
       "2023-02-14 15:00:00-05:00    4136.03\n",
       "2023-02-14 16:00:00-05:00    4136.13\n",
       "2023-02-15 09:00:00-05:00    4111.45\n",
       "                              ...   \n",
       "2023-02-28 12:00:00-05:00    3993.90\n",
       "2023-02-28 13:00:00-05:00    3994.40\n",
       "2023-02-28 14:00:00-05:00    3983.17\n",
       "2023-02-28 15:00:00-05:00    3969.28\n",
       "2023-02-28 16:00:00-05:00    3970.15\n",
       "Name: c, Length: 76, dtype: float64"
      ]
     },
     "execution_count": 7,
     "metadata": {},
     "output_type": "execute_result"
    }
   ],
   "source": [
    "mx"
   ]
  },
  {
   "cell_type": "code",
   "execution_count": null,
   "id": "9ab6f5a7-61f0-4615-b986-d1677aeb64e7",
   "metadata": {},
   "outputs": [],
   "source": []
  },
  {
   "cell_type": "code",
   "execution_count": null,
   "id": "878a25ad-861c-4f80-9e08-896846a9e387",
   "metadata": {},
   "outputs": [],
   "source": []
  }
 ],
 "metadata": {
  "kernelspec": {
   "display_name": "Python 3 (ipykernel)",
   "language": "python",
   "name": "python3"
  },
  "language_info": {
   "codemirror_mode": {
    "name": "ipython",
    "version": 3
   },
   "file_extension": ".py",
   "mimetype": "text/x-python",
   "name": "python",
   "nbconvert_exporter": "python",
   "pygments_lexer": "ipython3",
   "version": "3.12.0"
  }
 },
 "nbformat": 4,
 "nbformat_minor": 5
}
